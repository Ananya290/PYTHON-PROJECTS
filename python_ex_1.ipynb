{
  "nbformat": 4,
  "nbformat_minor": 0,
  "metadata": {
    "colab": {
      "provenance": [],
      "authorship_tag": "ABX9TyPcRNsle9sUOoi+LcJqr7YV",
      "include_colab_link": true
    },
    "kernelspec": {
      "name": "python3",
      "display_name": "Python 3"
    },
    "language_info": {
      "name": "python"
    }
  },
  "cells": [
    {
      "cell_type": "markdown",
      "metadata": {
        "id": "view-in-github",
        "colab_type": "text"
      },
      "source": [
        "<a href=\"https://colab.research.google.com/github/Ananya290/PYTHON-PROJECTS/blob/main/python_ex_1.ipynb\" target=\"_parent\"><img src=\"https://colab.research.google.com/assets/colab-badge.svg\" alt=\"Open In Colab\"/></a>"
      ]
    },
    {
      "cell_type": "code",
      "execution_count": 2,
      "metadata": {
        "id": "NFiaZlfb3Gfg"
      },
      "outputs": [],
      "source": [
        "import time\n",
        "Time=time.strftime('%H:%M:%S')\n",
        "print(Time)\n",
        "name=input(\"enter you name:\")\n",
        "hours=int(time.strftime('%H'))\n",
        "if(0<=hours<=11):\n",
        "  print(\"good morning\",name)\n",
        "elif(12<=hours<=16):\n",
        "    print(\"good afternoon\",name)\n",
        "elif(17<=hours<=20):\n",
        "    print(\"good evening\",name)\n",
        "elif(21<=hours<=24):\n",
        "   print(\"good night\",name)\n",
        "else:\n",
        "  print(\"error\")\n"
      ]
    },
    {
      "cell_type": "code",
      "source": [],
      "metadata": {
        "id": "kKKNCy6L3Vje"
      },
      "execution_count": null,
      "outputs": []
    }
  ]
}